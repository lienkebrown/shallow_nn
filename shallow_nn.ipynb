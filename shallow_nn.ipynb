{
 "cells": [
  {
   "cell_type": "markdown",
   "metadata": {},
   "source": [
    "# Shallow NN\n",
    "#### [source: https://towardsdatascience.com/building-a-shallow-neural-network-a4e2728441e0]\n",
    "\n",
    "\n",
    "## Theory\n",
    "\n",
    "### One Hidden layer NN\n",
    "- Build shallow dense NN\n",
    "- 1 layer NN ~ logistic regression\n",
    "- Number of input units correspond to number of inputs\n",
    "- In each hidden unit, a linear operation is followed by an activation function (linear operation ~ weight vector + bias; activation function ~ tanh/reLu etc)\n",
    "- For example for node a_1 (first hidden unit): given input x = (x_1, x_2) --> z1 = w11*x1 + w12x2 & a1 = activation(z1)\n",
    "- The same applies to each hidden unit, example a_3 (third hidden unit): given input x = (x_1, x_2) --> z3 = w31*x1 + w32x2 & a3 = activation(z3)\n",
    "\n",
    "\n",
    "### Vectorization of One Input\n",
    "- put weights into matrix and input into vector to simplify expression\n"
   ]
  },
  {
   "cell_type": "markdown",
   "metadata": {},
   "source": [
    "## Code\n",
    "\n",
    "### Generate Sample Dataset"
   ]
  },
  {
   "cell_type": "code",
   "execution_count": 1,
   "metadata": {},
   "outputs": [
    {
     "name": "stdout",
     "output_type": "stream",
     "text": [
      "train shape (4000, 20)\n",
      "test shape (1000, 20)\n"
     ]
    }
   ],
   "source": [
    "from sklearn import datasets\n",
    "\n",
    "\n",
    "X, y = datasets.make_classification(n_samples=5000, random_state=123)\n",
    "\n",
    "X_train, X_test = X[:4000], X[4000:]\n",
    "y_train, y_test = y[:4000], y[4000:]\n",
    "\n",
    "print('train shape', X_train.shape)\n",
    "print('test shape', X_test.shape)"
   ]
  },
  {
   "cell_type": "code",
   "execution_count": null,
   "metadata": {},
   "outputs": [],
   "source": []
  }
 ],
 "metadata": {
  "kernelspec": {
   "display_name": "Python 3.8.5 ('my_first_ve')",
   "language": "python",
   "name": "python3"
  },
  "language_info": {
   "codemirror_mode": {
    "name": "ipython",
    "version": 3
   },
   "file_extension": ".py",
   "mimetype": "text/x-python",
   "name": "python",
   "nbconvert_exporter": "python",
   "pygments_lexer": "ipython3",
   "version": "3.8.5"
  },
  "orig_nbformat": 4,
  "vscode": {
   "interpreter": {
    "hash": "18b86188c79a12800260da069a11966770f8fe32cd3070024b167b91c3dae80c"
   }
  }
 },
 "nbformat": 4,
 "nbformat_minor": 2
}
